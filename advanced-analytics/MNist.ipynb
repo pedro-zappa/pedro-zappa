{
  "nbformat": 4,
  "nbformat_minor": 0,
  "metadata": {
    "colab": {
      "provenance": [],
      "include_colab_link": true
    },
    "kernelspec": {
      "name": "python3",
      "display_name": "Python 3"
    },
    "language_info": {
      "name": "python"
    }
  },
  "cells": [
    {
      "cell_type": "markdown",
      "metadata": {
        "id": "view-in-github",
        "colab_type": "text"
      },
      "source": [
        "<a href=\"https://colab.research.google.com/github/pedro-zappa/pedro-zappa/blob/main/advanced-analytics/MNist.ipynb\" target=\"_parent\"><img src=\"https://colab.research.google.com/assets/colab-badge.svg\" alt=\"Open In Colab\"/></a>"
      ]
    },
    {
      "cell_type": "markdown",
      "source": [
        "# Classificação de dígitos com MNIST e Pytorch\n",
        "\n",
        "MNIST, é um famoso conjunto de dados contendo 70.000 dígitos escritos à mão em tons de cinza (0-9) e seus valores associados. No PyTorch,  torchvision.dataset nos dá acesso a alguns conjuntos de dados, incluindo este. O conjunto de dados é dividido em 60.000 imagens de treinamento e 10.000 para o conjunto de teste.\n",
        "Nosso objetivo é construir um classificador de rede neural que possa ler os dígitos na imagem."
      ],
      "metadata": {
        "id": "F-rvAe7M62Ri"
      }
    },
    {
      "cell_type": "code",
      "execution_count": 2,
      "metadata": {
        "colab": {
          "base_uri": "https://localhost:8080/"
        },
        "id": "udejMD8h6vWC",
        "outputId": "091c2dfa-397e-4739-92cc-e8ee466970dc"
      },
      "outputs": [
        {
          "output_type": "stream",
          "name": "stdout",
          "text": [
            "Downloading http://yann.lecun.com/exdb/mnist/train-images-idx3-ubyte.gz\n",
            "Downloading http://yann.lecun.com/exdb/mnist/train-images-idx3-ubyte.gz to ../../data/MNIST/raw/train-images-idx3-ubyte.gz\n"
          ]
        },
        {
          "output_type": "stream",
          "name": "stderr",
          "text": [
            "100%|██████████| 9912422/9912422 [00:00<00:00, 287254024.56it/s]"
          ]
        },
        {
          "output_type": "stream",
          "name": "stdout",
          "text": [
            "Extracting ../../data/MNIST/raw/train-images-idx3-ubyte.gz to ../../data/MNIST/raw\n"
          ]
        },
        {
          "output_type": "stream",
          "name": "stderr",
          "text": [
            "\n"
          ]
        },
        {
          "output_type": "stream",
          "name": "stdout",
          "text": [
            "\n",
            "Downloading http://yann.lecun.com/exdb/mnist/train-labels-idx1-ubyte.gz\n",
            "Downloading http://yann.lecun.com/exdb/mnist/train-labels-idx1-ubyte.gz to ../../data/MNIST/raw/train-labels-idx1-ubyte.gz\n"
          ]
        },
        {
          "output_type": "stream",
          "name": "stderr",
          "text": [
            "100%|██████████| 28881/28881 [00:00<00:00, 16192446.71it/s]\n"
          ]
        },
        {
          "output_type": "stream",
          "name": "stdout",
          "text": [
            "Extracting ../../data/MNIST/raw/train-labels-idx1-ubyte.gz to ../../data/MNIST/raw\n",
            "\n",
            "Downloading http://yann.lecun.com/exdb/mnist/t10k-images-idx3-ubyte.gz\n",
            "Downloading http://yann.lecun.com/exdb/mnist/t10k-images-idx3-ubyte.gz to ../../data/MNIST/raw/t10k-images-idx3-ubyte.gz\n"
          ]
        },
        {
          "output_type": "stream",
          "name": "stderr",
          "text": [
            "100%|██████████| 1648877/1648877 [00:00<00:00, 110884902.94it/s]"
          ]
        },
        {
          "output_type": "stream",
          "name": "stdout",
          "text": [
            "Extracting ../../data/MNIST/raw/t10k-images-idx3-ubyte.gz to ../../data/MNIST/raw\n"
          ]
        },
        {
          "output_type": "stream",
          "name": "stderr",
          "text": [
            "\n"
          ]
        },
        {
          "output_type": "stream",
          "name": "stdout",
          "text": [
            "\n",
            "Downloading http://yann.lecun.com/exdb/mnist/t10k-labels-idx1-ubyte.gz\n",
            "Downloading http://yann.lecun.com/exdb/mnist/t10k-labels-idx1-ubyte.gz to ../../data/MNIST/raw/t10k-labels-idx1-ubyte.gz\n"
          ]
        },
        {
          "output_type": "stream",
          "name": "stderr",
          "text": [
            "100%|██████████| 4542/4542 [00:00<00:00, 15888681.21it/s]\n"
          ]
        },
        {
          "output_type": "stream",
          "name": "stdout",
          "text": [
            "Extracting ../../data/MNIST/raw/t10k-labels-idx1-ubyte.gz to ../../data/MNIST/raw\n",
            "\n"
          ]
        }
      ],
      "source": [
        "import torch\n",
        "import torchvision\n",
        "import torchvision.transforms as transforms\n",
        "\n",
        "#hyperparameter:\n",
        "batch_size = 100\n",
        "\n",
        "# MNIST dataset\n",
        "train_dataset = torchvision.datasets.MNIST(root='../../data',\n",
        "                                           train=True,\n",
        "                                           transform=transforms.ToTensor(),\n",
        "                                           download=True)\n",
        "\n",
        "test_dataset = torchvision.datasets.MNIST(root='../../data',\n",
        "                                          train=False,\n",
        "                                          transform=transforms.ToTensor())\n",
        "\n",
        "# Data loader\n",
        "train_loader = torch.utils.data.DataLoader(dataset=train_dataset,\n",
        "                                           batch_size=batch_size,\n",
        "                                           shuffle=True)\n",
        "\n",
        "test_loader = torch.utils.data.DataLoader(dataset=test_dataset,\n",
        "                                          batch_size=batch_size,\n",
        "                                          shuffle=False)\n",
        "\n",
        "classes = ('0','1','2','3','4','5','6','7','8','9')"
      ]
    },
    {
      "cell_type": "code",
      "source": [
        "help(dataiter)"
      ],
      "metadata": {
        "id": "RPCIBj4t-bJs",
        "outputId": "cf985a81-c392-483b-fb8f-40f61d4e3066",
        "colab": {
          "base_uri": "https://localhost:8080/"
        }
      },
      "execution_count": 5,
      "outputs": [
        {
          "output_type": "stream",
          "name": "stdout",
          "text": [
            "Help on _SingleProcessDataLoaderIter in module torch.utils.data.dataloader object:\n",
            "\n",
            "class _SingleProcessDataLoaderIter(_BaseDataLoaderIter)\n",
            " |  _SingleProcessDataLoaderIter(loader)\n",
            " |  \n",
            " |  Method resolution order:\n",
            " |      _SingleProcessDataLoaderIter\n",
            " |      _BaseDataLoaderIter\n",
            " |      builtins.object\n",
            " |  \n",
            " |  Methods defined here:\n",
            " |  \n",
            " |  __init__(self, loader)\n",
            " |      Initialize self.  See help(type(self)) for accurate signature.\n",
            " |  \n",
            " |  ----------------------------------------------------------------------\n",
            " |  Methods inherited from _BaseDataLoaderIter:\n",
            " |  \n",
            " |  __getstate__(self)\n",
            " |  \n",
            " |  __iter__(self) -> '_BaseDataLoaderIter'\n",
            " |  \n",
            " |  __len__(self) -> int\n",
            " |  \n",
            " |  __next__(self) -> Any\n",
            " |  \n",
            " |  ----------------------------------------------------------------------\n",
            " |  Data descriptors inherited from _BaseDataLoaderIter:\n",
            " |  \n",
            " |  __dict__\n",
            " |      dictionary for instance variables (if defined)\n",
            " |  \n",
            " |  __weakref__\n",
            " |      list of weak references to the object (if defined)\n",
            "\n"
          ]
        }
      ]
    },
    {
      "cell_type": "code",
      "source": [
        "# This code will plot some examples\n",
        "import matplotlib.pyplot as plt\n",
        "%matplotlib inline\n",
        "import numpy as np\n",
        "\n",
        "\n",
        "def imshow(img):\n",
        "#     img = img / 2 + 0.5     # unnormalize\n",
        "    npimg = img.numpy()\n",
        "    plt.imshow(np.transpose(npimg, (1, 2, 0)))\n",
        "\n",
        "\n",
        "# get some random training images\n",
        "dataiter = iter(train_loader)\n",
        "images, labels = next(dataiter)\n",
        "\n",
        "# show images\n",
        "imshow(torchvision.utils.make_grid(images[0:9]))\n",
        "# print labels\n",
        "print(' '.join('%5s' % classes[labels[j]] for j in range(9)))"
      ],
      "metadata": {
        "colab": {
          "base_uri": "https://localhost:8080/",
          "height": 209
        },
        "id": "HmEhIlOH7RxE",
        "outputId": "ae1940d6-f0c5-40a2-f107-dffbb8512154"
      },
      "execution_count": 30,
      "outputs": [
        {
          "output_type": "stream",
          "name": "stdout",
          "text": [
            "    8     0     9     4     6     3     2     1     7\n"
          ]
        },
        {
          "output_type": "display_data",
          "data": {
            "text/plain": [
              "<Figure size 640x480 with 1 Axes>"
            ],
            "image/png": "[encoded data removed]"
          },
          "metadata": {}
        }
      ]
    },
    {
      "cell_type": "code",
      "source": [
        "import torch.nn as nn\n",
        "import torch.nn.functional as F\n",
        "# Fully connected neural network with one hidden layer\n",
        "class NeuralNetDropout(nn.Module):\n",
        "    def __init__(self, input_size, hidden_size, num_classes, dropout_rate):\n",
        "        super(NeuralNetDropout, self).__init__()\n",
        "        self.fc1 = nn.Linear(input_size, hidden_size)\n",
        "        self.relu = nn.ReLU()\n",
        "        self.dropout1 = nn.Dropout(dropout_rate)\n",
        "        self.fc2 = nn.Linear(hidden_size, hidden_size)\n",
        "        self.dropout2 = nn.Dropout(dropout_rate)\n",
        "        self.fc3 = nn.Linear(hidden_size, num_classes)\n",
        "\n",
        "    def forward(self, x):\n",
        "        out = self.fc1(x)\n",
        "        out = self.relu(out)\n",
        "        out = self.dropout1(out)\n",
        "        out = self.fc2(out)\n",
        "        out = self.relu(out)\n",
        "        out = self.dropout2(out)\n",
        "        out = self.fc3(out)\n",
        "        return out\n"
      ],
      "metadata": {
        "id": "Vp2Fe2nE7ZZ8"
      },
      "execution_count": 34,
      "outputs": []
    },
    {
      "cell_type": "code",
      "source": [
        "# hyperparameters\n",
        "input_size = 784\n",
        "hidden_size = 500\n",
        "num_classes = 10\n",
        "num_epochs = 5\n",
        "learning_rate = 0.01\n",
        "dropout_rate = 0.05\n",
        "#creating model\n",
        "model = NeuralNet(input_size, hidden_size, num_classes)\n",
        "\n",
        "# Loss and optimizer\n",
        "criterion = nn.CrossEntropyLoss()\n",
        "optimizer = torch.optim.Adam(model.parameters(), lr=learning_rate)"
      ],
      "metadata": {
        "id": "0AdJ_Am47ino"
      },
      "execution_count": 33,
      "outputs": []
    },
    {
      "cell_type": "code",
      "source": [
        "# Train the model\n",
        "total_step = len(train_loader)\n",
        "for epoch in range(num_epochs):\n",
        "    for i, (images, labels) in enumerate(train_loader):\n",
        "        # Move tensors to the configured device\n",
        "        images = images.reshape(-1, 28*28)\n",
        "        labels = labels\n",
        "\n",
        "        # Forward pass\n",
        "        outputs = model(images)\n",
        "        loss = criterion(outputs, labels)\n",
        "\n",
        "        # Backward and optimize\n",
        "        optimizer.zero_grad()\n",
        "        loss.backward()\n",
        "        optimizer.step()\n",
        "\n",
        "        if (i+1) % 100 == 0:\n",
        "            print ('Epoch [{}/{}], Step [{}/{}], Loss: {:.4f}'\n",
        "                   .format(epoch+1, num_epochs, i+1, total_step, loss.item()))"
      ],
      "metadata": {
        "colab": {
          "base_uri": "https://localhost:8080/"
        },
        "id": "BjayyopA7mpH",
        "outputId": "c42e208a-791d-46cb-cfdc-5447bf70ed98"
      },
      "execution_count": 35,
      "outputs": [
        {
          "output_type": "stream",
          "name": "stdout",
          "text": [
            "Epoch [1/5], Step [100/600], Loss: 0.3109\n",
            "Epoch [1/5], Step [200/600], Loss: 0.2255\n",
            "Epoch [1/5], Step [300/600], Loss: 0.1543\n",
            "Epoch [1/5], Step [400/600], Loss: 0.2321\n",
            "Epoch [1/5], Step [500/600], Loss: 0.0529\n",
            "Epoch [1/5], Step [600/600], Loss: 0.0990\n",
            "Epoch [2/5], Step [100/600], Loss: 0.0757\n",
            "Epoch [2/5], Step [200/600], Loss: 0.2293\n",
            "Epoch [2/5], Step [300/600], Loss: 0.2288\n",
            "Epoch [2/5], Step [400/600], Loss: 0.2868\n",
            "Epoch [2/5], Step [500/600], Loss: 0.1369\n",
            "Epoch [2/5], Step [600/600], Loss: 0.2584\n",
            "Epoch [3/5], Step [100/600], Loss: 0.2355\n",
            "Epoch [3/5], Step [200/600], Loss: 0.0239\n",
            "Epoch [3/5], Step [300/600], Loss: 0.1964\n",
            "Epoch [3/5], Step [400/600], Loss: 0.2747\n",
            "Epoch [3/5], Step [500/600], Loss: 0.1042\n",
            "Epoch [3/5], Step [600/600], Loss: 0.3578\n",
            "Epoch [4/5], Step [100/600], Loss: 0.0397\n",
            "Epoch [4/5], Step [200/600], Loss: 0.0596\n",
            "Epoch [4/5], Step [300/600], Loss: 0.0811\n",
            "Epoch [4/5], Step [400/600], Loss: 0.0037\n",
            "Epoch [4/5], Step [500/600], Loss: 0.1214\n",
            "Epoch [4/5], Step [600/600], Loss: 0.2092\n",
            "Epoch [5/5], Step [100/600], Loss: 0.0454\n",
            "Epoch [5/5], Step [200/600], Loss: 0.0381\n",
            "Epoch [5/5], Step [300/600], Loss: 0.1384\n",
            "Epoch [5/5], Step [400/600], Loss: 0.0754\n",
            "Epoch [5/5], Step [500/600], Loss: 0.0372\n",
            "Epoch [5/5], Step [600/600], Loss: 0.0337\n"
          ]
        }
      ]
    },
    {
      "cell_type": "code",
      "source": [
        "with torch.no_grad():\n",
        "    correct = 0\n",
        "    total = 0\n",
        "    for images, labels in test_loader:\n",
        "        images = images.reshape(-1, 28*28)\n",
        "        labels = labels\n",
        "        outputs = model(images)\n",
        "        _, predicted = torch.max(outputs.data, 1)\n",
        "        total += labels.size(0)\n",
        "        correct += (predicted == labels).sum().item()\n",
        "\n",
        "    print('Accuracy of the network on the 10000 test images: {} %'.format(100 * correct / total))\n",
        "    print(labels)\n",
        "    imshow(torchvision.utils.make_grid(outputs[0:9]))\n",
        "\n",
        "# Save the model checkpoint\n",
        "torch.save(model.state_dict(), 'model.ckpt')"
      ],
      "metadata": {
        "colab": {
          "base_uri": "https://localhost:8080/",
          "height": 552
        },
        "id": "2nFSiVp27tzG",
        "outputId": "9799cb21-a194-4c23-e375-1f840d78c225"
      },
      "execution_count": 39,
      "outputs": [
        {
          "output_type": "stream",
          "name": "stderr",
          "text": [
            "WARNING:matplotlib.image:Clipping input data to the valid range for imshow with RGB data ([0..1] for floats or [0..255] for integers).\n"
          ]
        },
        {
          "output_type": "stream",
          "name": "stdout",
          "text": [
            "Accuracy of the network on the 10000 test images: 96.73 %\n",
            "tensor([8, 9, 0, 1, 2, 3, 4, 5, 6, 7, 8, 0, 1, 2, 3, 4, 7, 8, 9, 7, 8, 6, 4, 1,\n",
            "        9, 3, 8, 4, 4, 7, 0, 1, 9, 2, 8, 7, 8, 2, 6, 0, 6, 5, 3, 3, 3, 9, 1, 4,\n",
            "        0, 6, 1, 0, 0, 6, 2, 1, 1, 7, 7, 8, 4, 6, 0, 7, 0, 3, 6, 8, 7, 1, 5, 2,\n",
            "        4, 9, 4, 3, 6, 4, 1, 7, 2, 6, 5, 0, 1, 2, 3, 4, 5, 6, 7, 8, 9, 0, 1, 2,\n",
            "        3, 4, 5, 6])\n"
          ]
        },
        {
          "output_type": "display_data",
          "data": {
            "text/plain": [
              "<Figure size 640x480 with 1 Axes>"
            ],
            "image/png": "[encoded data removed]"
          },
          "metadata": {}
        }
      ]
    },
    {
      "cell_type": "code",
      "source": [
        "# This code will plot some examples\n",
        "import matplotlib.pyplot as plt\n",
        "%matplotlib inline\n",
        "import numpy as np\n",
        "\n",
        "\n",
        "def imshow(img):\n",
        "#     img = img / 2 + 0.5     # unnormalize\n",
        "    npimg = img.numpy()\n",
        "    plt.imshow(np.transpose(npimg, (1, 2, 0)))\n",
        "\n",
        "\n",
        "# get some random training images\n",
        "dataiter = iter(train_loader)\n",
        "images, labels = next(dataiter)\n",
        "\n",
        "# show images\n",
        "imshow(torchvision.utils.make_grid(images[0:9]))\n",
        "# print labels\n",
        "print(' '.join('%5s' % classes[labels[j]] for j in range(9)))"
      ],
      "metadata": {
        "colab": {
          "base_uri": "https://localhost:8080/",
          "height": 209
        },
        "outputId": "ae1940d6-f0c5-40a2-f107-dffbb8512154",
        "id": "sGNXuQOsFvgb"
      },
      "execution_count": null,
      "outputs": [
        {
          "output_type": "stream",
          "name": "stdout",
          "text": [
            "    8     0     9     4     6     3     2     1     7\n"
          ]
        },
        {
          "output_type": "display_data",
          "data": {
            "text/plain": [
              "<Figure size 640x480 with 1 Axes>"
            ],
            "image/png": "[encoded data removed]"
          },
          "metadata": {}
        }
      ]
    },
    {
      "cell_type": "markdown",
      "source": [
        "#Exercício 1: Melhorando o classificador MNIST\n",
        "\n",
        "Neste exercício queremos melhorar o desempenho do nosso classificador e aplicar algumas das técnicas para melhorar a performance.\n",
        "\n",
        "Você deve seguir cada um dos pontos a seguir e comentar as melhorias ou problemas causados pelas alterações. Depois de concluir as etapas, você deve explicar qual configuração funciona melhor. Nesta parte, você pode aplicar suas próprias modificações e ficar à vontade para procurar sugestões on-line.\n",
        "\n",
        "Crie uma rede mais profunda, teste o desempenho usando 2 e 4 camadas.\n",
        "Altere o método de otimização para torch.optim.Adam. Teste-o com o modelo de uma camada interna e com várias. Você provavelmente precisará diminuir seu learning rate, observe como isso é relevante quando o número de camadas é maior.\n",
        "Adicione camadas de dropout e observe como isso afeta o desempenho."
      ],
      "metadata": {
        "id": "j2AWBa4K76NN"
      }
    },
    {
      "cell_type": "markdown",
      "source": [
        "#Exercício 2: Cães vs Gatos\n",
        "\n",
        "Baixe o conjunto de dados em http://files.fast.ai/data/dogscats.zip, existem 25.000 fotos anotadas de cães e gatos disponíveis para treinamento e 12.500 no conjunto de teste que você deve tentar classificar. Desta vez, você precisará descobrir uma maneira de ler e transformar as imagens em tensores.\n",
        "\n",
        "Treine um classificador com este conjunto de dados. Crie sua versão de uma CNN.\n",
        "Tente melhorar seu resultado adicionando regularização (dropout por exemplo).\n",
        "\n",
        "Em caso de dúvidas consulte: https://pytorch.org/tutorials/beginner/blitz/cifar10_tutorial.html#sphx-glr-beginner-blitz-cifar10-tutorial-py"
      ],
      "metadata": {
        "id": "RocF8v888nyJ"
      }
    }
  ]
}